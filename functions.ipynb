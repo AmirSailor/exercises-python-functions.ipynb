{
  "cells": [
    {
      "cell_type": "markdown",
      "id": "qualified-overhead",
      "metadata": {
        "id": "qualified-overhead"
      },
      "source": [
        "# Functions"
      ]
    },
    {
      "cell_type": "markdown",
      "id": "geographic-kazakhstan",
      "metadata": {
        "id": "geographic-kazakhstan"
      },
      "source": [
        "## Count Non-Vowel Characters\n",
        "Write a Python function that takes a string and returns the number of non-vowel characters in that string. Vowel characters in English are `\"a\"`, `\"e\"`, `\"i\"`, `\"o\"`, and `\"u\"`. For example, given the string `\"abcdA\"`, the function should return 3."
      ]
    },
    {
      "cell_type": "code",
      "execution_count": 5,
      "id": "increased-introduction",
      "metadata": {
        "id": "increased-introduction",
        "outputId": "b1afb306-8636-43be-db65-cf23bb157c78",
        "colab": {
          "base_uri": "https://localhost:8080/"
        }
      },
      "outputs": [
        {
          "output_type": "stream",
          "name": "stdout",
          "text": [
            "write something: abcde\n",
            "2\n"
          ]
        }
      ],
      "source": [
        "x = input('write something: ')\n",
        "def volwel_detector(x):\n",
        "  y = 0\n",
        "  v = ['a','e','i','o','u']\n",
        "  for i in x:\n",
        "    if i in v:\n",
        "      y += 1\n",
        "  print (y)\n",
        "\n",
        "volwel_detector(x)"
      ]
    },
    {
      "cell_type": "markdown",
      "id": "permanent-lawsuit",
      "metadata": {
        "id": "permanent-lawsuit"
      },
      "source": [
        "## Multiply the List Elements\n",
        "Write a Python function that takes a list of values as input and returns the product of all the numbers in the list. For example, given the input list `[1, 3, 8]`, the function should return 24."
      ]
    },
    {
      "cell_type": "code",
      "execution_count": 18,
      "id": "extensive-dividend",
      "metadata": {
        "id": "extensive-dividend",
        "outputId": "8d459b1f-832c-41ca-fbc8-07312ec0e618",
        "colab": {
          "base_uri": "https://localhost:8080/"
        }
      },
      "outputs": [
        {
          "output_type": "stream",
          "name": "stdout",
          "text": [
            "30\n"
          ]
        }
      ],
      "source": [
        "x = [1,5,6]\n",
        "def multiple_list(x):\n",
        "  y = 1\n",
        "  for i in x:\n",
        "    y = int(i) * y\n",
        "  print(y)\n",
        "multiple_list(x)"
      ]
    },
    {
      "cell_type": "markdown",
      "id": "documented-discharge",
      "metadata": {
        "id": "documented-discharge"
      },
      "source": [
        "## Check if a String is Palindrome\n",
        "Write a Python function that takes a string and returns `True` if it is palindrome. A palindrome is a word, number, phrase, or other sequence of characters which reads the same backward as forward. For example, given the string `\"abc\"` the function should return `False`. But, given the string `\"aba\"`, the function should return `True`."
      ]
    },
    {
      "cell_type": "code",
      "execution_count": 23,
      "id": "homeless-generator",
      "metadata": {
        "id": "homeless-generator",
        "outputId": "14ad974c-7e10-4b2b-ce60-c699cabda350",
        "colab": {
          "base_uri": "https://localhost:8080/"
        }
      },
      "outputs": [
        {
          "output_type": "stream",
          "name": "stdout",
          "text": [
            "wite: aba\n",
            "True\n"
          ]
        }
      ],
      "source": [
        "x = input('wite: ')\n",
        "def palindrome(x):\n",
        "  if x == x[::-1]:\n",
        "    print (True)\n",
        "  else:\n",
        "    print(False)\n",
        "palindrome(x)"
      ]
    },
    {
      "cell_type": "markdown",
      "id": "retired-craps",
      "metadata": {
        "id": "retired-craps"
      },
      "source": [
        "## Count the Unique Digits in an Integer\n",
        "Write a Python function that takes a positive integer and returns the number of unique digits in that integer. For example, given the integer 12315, the function should return 4."
      ]
    },
    {
      "cell_type": "code",
      "execution_count": 28,
      "id": "australian-resort",
      "metadata": {
        "id": "australian-resort",
        "outputId": "de50964d-a784-43e9-cf35-43c54ce88f01",
        "colab": {
          "base_uri": "https://localhost:8080/"
        }
      },
      "outputs": [
        {
          "output_type": "stream",
          "name": "stdout",
          "text": [
            "write: 123abc123\n",
            "6\n"
          ]
        }
      ],
      "source": [
        "from typing_extensions import Counter\n",
        "x = input('write: ')\n",
        "def uniq(x):\n",
        "  res = list(set(x))\n",
        "  print(len(res))\n",
        "uniq(x)"
      ]
    },
    {
      "cell_type": "markdown",
      "id": "upset-physiology",
      "metadata": {
        "id": "upset-physiology"
      },
      "source": [
        "## Check a Number is Prime\n",
        "Write a Python function that takes a number and checks the number is prime or not. It should return `True` for being prime and `False` otherwise. Note that a prime number (or a prime) is a natural number greater than 1 and that has no positive divisors other than 1 and itself. For example, the function should return `True` for the given number 7 and `False` for the given number 10."
      ]
    },
    {
      "cell_type": "code",
      "execution_count": 37,
      "id": "normal-garbage",
      "metadata": {
        "id": "normal-garbage"
      },
      "outputs": [],
      "source": [
        "def is_prime(n):\n",
        "    \"\"\"Check if a number is prime.\"\"\"\n",
        "    if n < 2:\n",
        "        return False\n",
        "    if n == 2:\n",
        "        return True\n",
        "    if n % 2 == 0:\n",
        "        return False\n",
        "    for i in range(3, int(n ** 0.5) + 1, 2):\n",
        "        if n % i == 0:\n",
        "            return False\n",
        "    return True\n"
      ]
    },
    {
      "cell_type": "markdown",
      "id": "daily-console",
      "metadata": {
        "id": "daily-console"
      },
      "source": [
        "## Sort Hyphened-Seperated Words\n",
        "Write a Python function that takes a sequence of words that are separated by hyphens as input and returns the words in a hyphen-separated sequence after sorting the words alphabetically. For example, given the string `\"green-red-yellow-black-white\"`, the function should return `\"black-green-red-white-yellow\"`."
      ]
    },
    {
      "cell_type": "code",
      "execution_count": 40,
      "id": "aging-staff",
      "metadata": {
        "id": "aging-staff",
        "outputId": "0ef2d281-b65a-4198-c9c5-22ce764055ab",
        "colab": {
          "base_uri": "https://localhost:8080/"
        }
      },
      "outputs": [
        {
          "output_type": "stream",
          "name": "stdout",
          "text": [
            "black-green-red-white-yellow\n"
          ]
        }
      ],
      "source": [
        "x = \"green-red-yellow-black-white\"\n",
        "def sorter(x):\n",
        "  x = x.split(\"-\")\n",
        "  x.sort()\n",
        "  x= '-'.join(x)\n",
        "  print(x)\n",
        "\n",
        "sorter(x)"
      ]
    },
    {
      "cell_type": "markdown",
      "id": "dressed-leisure",
      "metadata": {
        "id": "dressed-leisure"
      },
      "source": [
        "## Count the Characters\n",
        "Write a Python function that takes a string as input and returns a dictionary that stores the frequency of each character in the input string. For example, given the string `\"abca\"`, the function should return `{'a': 2, 'b': 1, 'c': 1}`."
      ]
    },
    {
      "cell_type": "code",
      "source": [],
      "metadata": {
        "id": "yQ-rFRC81_NG"
      },
      "id": "yQ-rFRC81_NG",
      "execution_count": null,
      "outputs": []
    },
    {
      "cell_type": "code",
      "execution_count": 60,
      "id": "complete-stress",
      "metadata": {
        "id": "complete-stress",
        "outputId": "13ae2721-acec-4a93-a969-1a2a11094145",
        "colab": {
          "base_uri": "https://localhost:8080/"
        }
      },
      "outputs": [
        {
          "output_type": "stream",
          "name": "stdout",
          "text": [
            "write: fghfghyyki\n",
            "{'f': 2, 'g': 2, 'h': 2, 'y': 2, 'k': 1, 'i': 1}\n"
          ]
        }
      ],
      "source": [
        "x = input('write: ')\n",
        "def Count_the_Characters(x):\n",
        "  y={}\n",
        "  for i in x:\n",
        "    y[i] = x.count(i)\n",
        "  print(y)\n",
        "Count_the_Characters(x)\n"
      ]
    },
    {
      "cell_type": "markdown",
      "id": "aerial-uganda",
      "metadata": {
        "id": "aerial-uganda"
      },
      "source": [
        "## Compute the Fibonacci Sequence\n",
        "The Fibonacci Sequence is computed based on the following formula:     \n",
        "\n",
        "$$ f(n) = 0 \\text{   if } n = 0; \\\\\n",
        "f(n) = 1 \\text{   if } n = 1; \\\\\n",
        "f(n) = f(n-1) + f(n-2) \\text{   if } n > 1. $$     \n",
        "\n",
        "Write a Python function that computes the value of `f(n)` with a given `n` as input. For example, given 7, the function should return 13."
      ]
    },
    {
      "cell_type": "code",
      "execution_count": 59,
      "id": "compatible-senate",
      "metadata": {
        "id": "compatible-senate",
        "outputId": "5ce74b1b-bcd0-4d2a-d4f2-b07ff7eda48c",
        "colab": {
          "base_uri": "https://localhost:8080/"
        }
      },
      "outputs": [
        {
          "name": "stdout",
          "output_type": "stream",
          "text": [
            "write a number: 7\n"
          ]
        },
        {
          "output_type": "execute_result",
          "data": {
            "text/plain": [
              "13"
            ]
          },
          "metadata": {},
          "execution_count": 59
        }
      ],
      "source": [
        "x = input('write a number: ')\n",
        "def fibo(x):\n",
        "  if int(x) == 0:\n",
        "    return 0\n",
        "  elif int(x) == 1:\n",
        "    return 1\n",
        "  else:\n",
        "    return fibo(int(x)-1)+ fibo(int(x)-2)\n",
        "fibo(x)"
      ]
    }
  ],
  "metadata": {
    "kernelspec": {
      "display_name": "Python 3",
      "language": "python",
      "name": "python3"
    },
    "language_info": {
      "codemirror_mode": {
        "name": "ipython",
        "version": 3
      },
      "file_extension": ".py",
      "mimetype": "text/x-python",
      "name": "python",
      "nbconvert_exporter": "python",
      "pygments_lexer": "ipython3",
      "version": "3.8.5"
    },
    "colab": {
      "provenance": [],
      "toc_visible": true
    }
  },
  "nbformat": 4,
  "nbformat_minor": 5
}